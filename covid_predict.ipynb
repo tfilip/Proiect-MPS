{
  "nbformat": 4,
  "nbformat_minor": 0,
  "metadata": {
    "colab": {
      "name": "predict_covid.ipynb",
      "provenance": [],
      "collapsed_sections": []
    },
    "kernelspec": {
      "name": "python3",
      "display_name": "Python 3"
    }
  },
  "cells": [
    {
      "cell_type": "code",
      "metadata": {
        "id": "9yDNJKrKApap"
      },
      "source": [
        "import numpy as np\n",
        "import os\n",
        "import pandas as pd\n",
        "%matplotlib inline\n",
        "import matplotlib as mpl\n",
        "import matplotlib.pyplot as plt\n",
        "import math\n",
        "from sklearn.model_selection import train_test_split\n",
        "from sklearn.ensemble import RandomForestClassifier\n",
        "from sklearn.metrics import accuracy_score\n",
        "from sklearn.model_selection import GridSearchCV\n"
      ],
      "execution_count": 39,
      "outputs": []
    },
    {
      "cell_type": "code",
      "metadata": {
        "id": "edqgGFDqBNpI"
      },
      "source": [
        "DATASET_PATH = \"./datasets\"\n",
        "\n",
        "def load_covid_data(filename, dataset_path=DATASET_PATH):\n",
        "    xlsx_path = os.path.join(dataset_path, filename)\n",
        "    return pd.read_excel(xlsx_path)"
      ],
      "execution_count": 40,
      "outputs": []
    },
    {
      "cell_type": "code",
      "metadata": {
        "id": "ZXKpGdiYG0Eu"
      },
      "source": [
        "def convert_age(age):\n",
        "  if type(age) == str or age == None or math.isnan(age):\n",
        "    return 1\n",
        "  else:\n",
        "    return int(age)\n",
        "\n",
        "def parse_travel_history(travel_history):\n",
        "  if type(travel_history) == str and travel_history.startswith('n'):\n",
        "    return True\n",
        "  return False\n",
        "\n",
        "\n",
        "def parse_public_transport(public_transport):\n",
        "  if type(public_transport) == str:\n",
        "    public_transport = public_transport.lower()\n",
        "    if \"masina\" in public_transport or public_transport.startswith(\"n\"):\n",
        "      return False\n",
        "    return True\n",
        "  return False\n",
        "\n",
        "def parse_result(result):\n",
        "  if type(result) == str:\n",
        "    result = result.lower()\n",
        "    if result.startswith(\"n\"):\n",
        "      return False\n",
        "    return True\n",
        "  return False\n",
        "\n",
        "def parse_contact(contact):\n",
        "  if type(contact) == str:\n",
        "    contact = contact.lower()\n",
        "    if \"tie\" in contact:\n",
        "      return 2\n",
        "    elif \"nu\" in contact or \"neag\" in contact:\n",
        "      return 0\n",
        "    return 1\n",
        "  return 0\n",
        "\n",
        "\n",
        "def parse_symptoms(symptoms):\n",
        "\n",
        "  if type(symptoms) is not str:\n",
        "    return ''\n",
        "\n",
        "  rv = dict() \n",
        "  symptoms = symptoms.lower()\n",
        "  \n",
        "  rv['febra'] = 'febr' in symptoms or 'temp' in symptoms\n",
        "  rv['tuse'] = 'tuse' in symptoms\n",
        "  rv['dispnee'] = 'dispnee' in symptoms\n",
        "  rv['fatigabilitate'] = 'fatigabilitate' in symptoms or 'astenie' in symptoms\n",
        "  rv['diaree'] = 'diaree' in symptoms\n",
        "  rv['dureri'] = 'dur' in symptoms\n",
        "  rv['simturi'] = 'gust' in symptoms or 'miros' in symptoms or 'simt' in symptoms\n",
        "  rv['greturi'] = 'gre' in symptoms or 'vars' in symptoms\n",
        "\n",
        "  return rv\n",
        "\n",
        "def parse_suspect(suspect):\n",
        "\n",
        "  if type(suspect) is not str:\n",
        "    return 2\n",
        "\n",
        "  if 'sus' in suspect or 'cov' in suspect:\n",
        "    return 1\n",
        "\n",
        "  return 0\n",
        "\n",
        "full_data = load_covid_data(\"mps.dataset.xlsx\")\n",
        "full_data.rename(columns={'vârstă': 'age'}, inplace=True)\n",
        "full_data.rename(columns={'istoric de călătorie': 'travel_history'}, inplace=True)\n",
        "full_data.rename(columns={'mijloace de transport folosite': 'public_transport'}, inplace=True)\n",
        "full_data.rename(columns={'confirmare contact cu o persoană infectată': 'contact'}, inplace=True)\n",
        "full_data.rename(columns={'rezultat testare': 'result'}, inplace=True)\n",
        "full_data.rename(columns={'simptome raportate la internare': 'symptoms'}, inplace=True)\n",
        "full_data.rename(columns={'diagnostic și semne de internare': 'suspect'}, inplace=True)\n",
        "\n",
        "\n",
        "full_data.replace(['F','FEMININ     ','FEMININ'],'FEMININ', inplace=True)\n",
        "full_data.replace(['masculin'],'MASCULIN', inplace=True)\n",
        "full_data = full_data[full_data['sex'].notna()]\n",
        "full_data['age'] = full_data['age'].map(convert_age)\n",
        "full_data = full_data[full_data['age'] < 100]\n",
        "full_data = full_data[full_data['result'] != 'NECONCLUDENT']\n",
        "full_data['travel_history'] = full_data['travel_history'].map(parse_travel_history)\n",
        "full_data['public_transport'] = full_data['public_transport'].map(parse_public_transport)\n",
        "full_data['result'] = full_data['result'].map(parse_result)\n",
        "full_data['contact'] = full_data['contact'].map(parse_contact)\n",
        "full_data['simptome declarate'] = full_data['simptome declarate'].map(str)\n",
        "full_data['symptoms'] = full_data['symptoms'].astype(str) + ' ' +full_data['simptome declarate']\n",
        "full_data['symptoms'] = full_data['symptoms'].map(parse_symptoms)\n",
        "full_data['suspect'] = full_data['suspect'].map(parse_suspect)\n",
        "\n",
        "full_data = pd.concat([full_data, full_data['symptoms'].apply(pd.Series)], axis = 1).drop('symptoms', axis = 1)\n",
        "\n",
        "\n",
        "_ = full_data.pop('instituția sursă')\n",
        "_ = full_data.pop('dată debut simptome declarate')\n",
        "_ = full_data.pop('dată internare')\n",
        "_ = full_data.pop('data rezultat testare')\n",
        "_ = full_data.pop('simptome declarate')\n"
      ],
      "execution_count": 41,
      "outputs": []
    },
    {
      "cell_type": "code",
      "metadata": {
        "id": "stzBs56CZtmY",
        "outputId": "43797349-de85-4423-c36a-c74535dd6b3c",
        "colab": {
          "base_uri": "https://localhost:8080/"
        }
      },
      "source": [
        "full_data.pop('sex')\n",
        "full_data.pop('age')\n",
        "X = full_data\n",
        "y = full_data.pop('result')\n",
        "\n",
        "X_train,X_test,y_train,y_test = train_test_split(X,y,test_size=0.25,random_state=0)\n",
        "\n",
        "rf = RandomForestClassifier(n_estimators=100, random_state=123456)\n",
        "rf.fit(X_train, y_train)"
      ],
      "execution_count": 43,
      "outputs": [
        {
          "output_type": "execute_result",
          "data": {
            "text/plain": [
              "RandomForestClassifier(bootstrap=True, ccp_alpha=0.0, class_weight=None,\n",
              "                       criterion='gini', max_depth=None, max_features='auto',\n",
              "                       max_leaf_nodes=None, max_samples=None,\n",
              "                       min_impurity_decrease=0.0, min_impurity_split=None,\n",
              "                       min_samples_leaf=1, min_samples_split=2,\n",
              "                       min_weight_fraction_leaf=0.0, n_estimators=100,\n",
              "                       n_jobs=None, oob_score=False, random_state=123456,\n",
              "                       verbose=0, warm_start=False)"
            ]
          },
          "metadata": {
            "tags": []
          },
          "execution_count": 43
        }
      ]
    },
    {
      "cell_type": "code",
      "metadata": {
        "id": "493s_Cr8u0I-",
        "outputId": "d2507237-cabd-41fb-8dbd-b63a1c595bad",
        "colab": {
          "base_uri": "https://localhost:8080/"
        }
      },
      "source": [
        "predicted = rf.predict(X_test)\n",
        "accuracy = accuracy_score(y_test, predicted)\n",
        "print(f'Mean accuracy score: {accuracy:.3}')"
      ],
      "execution_count": 45,
      "outputs": [
        {
          "output_type": "stream",
          "text": [
            "Mean accuracy score: 0.908\n"
          ],
          "name": "stdout"
        }
      ]
    },
    {
      "cell_type": "code",
      "metadata": {
        "id": "OUQEPj4uBSW_"
      },
      "source": [
        ""
      ],
      "execution_count": null,
      "outputs": []
    }
  ]
}